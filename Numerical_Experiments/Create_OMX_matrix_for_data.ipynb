{
 "cells": [
  {
   "cell_type": "markdown",
   "metadata": {},
   "source": [
    "# <center>Passing raw data from 'network'_trips.tntp to demand.omx</center>"
   ]
  },
  {
   "cell_type": "code",
   "execution_count": 1,
   "metadata": {},
   "outputs": [],
   "source": [
    "import os\n",
    "import sys\n",
    "import numpy as np\n",
    "import pandas as pd\n",
    "import openmatrix as omx"
   ]
  },
  {
   "cell_type": "markdown",
   "metadata": {},
   "source": [
    "## 1. Import data from .TPTP files from Data set"
   ]
  },
  {
   "cell_type": "code",
   "execution_count": 2,
   "metadata": {},
   "outputs": [
    {
     "data": {
      "text/plain": [
       "'C:\\\\Users\\\\dongq\\\\Google Drive\\\\2021 Works\\\\Routing game\\\\Routing-Game-MOR-Submission\\\\Simulation_python\\\\TransportationNetworks-master'"
      ]
     },
     "execution_count": 2,
     "metadata": {},
     "output_type": "execute_result"
    }
   ],
   "source": [
    "root = os.path.dirname(os.path.abspath('.'))     #Look for the root folder\n",
    "root = root+'\\\\TransportationNetworks-master'\n",
    "root"
   ]
  },
  {
   "cell_type": "code",
   "execution_count": 3,
   "metadata": {},
   "outputs": [],
   "source": [
    "##Choose the folder we want to input:\n",
    "# folders = [\"SiouxFalls\"]\n",
    "##Or we can input all folders available:\n",
    "folders = [x for x in os.listdir(root)[1:] if os.path.isdir(os.path.join(root, x))]"
   ]
  },
  {
   "cell_type": "code",
   "execution_count": 4,
   "metadata": {},
   "outputs": [
    {
     "data": {
      "text/plain": [
       "['Austin',\n",
       " 'Barcelona',\n",
       " 'Berlin-Center',\n",
       " 'Berlin-Friedrichshain',\n",
       " 'Berlin-Mitte-Center',\n",
       " 'Berlin-Mitte-Prenzlauerberg-Friedrichshain-Center',\n",
       " 'Berlin-Prenzlauerberg-Center',\n",
       " 'Berlin-Tiergarten',\n",
       " 'Birmingham-England',\n",
       " 'Braess-Example',\n",
       " 'Chicago-Sketch',\n",
       " 'Eastern-Massachusetts',\n",
       " 'Hessen-Asymmetric',\n",
       " 'SiouxFalls',\n",
       " 'Terrassa-Asymmetric',\n",
       " 'Winnipeg',\n",
       " 'Winnipeg-Asymmetric',\n",
       " '_scripts']"
      ]
     },
     "execution_count": 4,
     "metadata": {},
     "output_type": "execute_result"
    }
   ],
   "source": [
    "folders"
   ]
  },
  {
   "cell_type": "markdown",
   "metadata": {},
   "source": [
    "### 1.1. Import the O-D inflows from 'network'_trips.tntp"
   ]
  },
  {
   "cell_type": "code",
   "execution_count": 5,
   "metadata": {},
   "outputs": [],
   "source": [
    "# Function to import OMX matrices in 'network'_trips.tntp = O-D inflow\n",
    "# Output of this function is a file 'demand.omx' in the respective folder of the network ()\n",
    "def import_matrix(matfile,network_name):\n",
    "    f = open(matfile, 'r')\n",
    "    all_rows = f.read()\n",
    "    blocks = all_rows.split('Origin')[1:]\n",
    "    matrix = {}\n",
    "    for k in range(len(blocks)):\n",
    "        orig = blocks[k].split('\\n')\n",
    "        dests = orig[1:]\n",
    "        orig=int(orig[0])\n",
    "\n",
    "        d = [eval('{'+a.replace(';',',').replace(' ','') +'}') for a in dests]\n",
    "        destinations = {}\n",
    "        for i in d:\n",
    "            destinations = {**destinations, **i}\n",
    "        matrix[orig] = destinations\n",
    "    zones = max(matrix.keys())\n",
    "    mat = np.zeros((zones, zones))\n",
    "    for i in range(zones):\n",
    "        for j in range(zones):\n",
    "            # We map values to a index i-1, as Numpy is base 0\n",
    "            mat[i, j] = matrix.get(i+1,{}).get(j+1,0)\n",
    "\n",
    "    index = np.arange(zones) + 1\n",
    "    \n",
    "    demandfile = root +'\\\\'+ network_name +'\\\\demand.omx'\n",
    "#     myfile = omx.open_file('demand.omx','w')\n",
    "    myfile = omx.open_file(demandfile,'w')\n",
    "    myfile['matrix'] = mat\n",
    "#     print(np.shape(mat))\n",
    "    myfile.create_mapping('taz', index)\n",
    "    myfile.close()"
   ]
  },
  {
   "cell_type": "code",
   "execution_count": 6,
   "metadata": {},
   "outputs": [
    {
     "name": "stdout",
     "output_type": "stream",
     "text": [
      "Load input of Austin_trips\n",
      "Load input of Barcelona_trips\n",
      "Load input of Berlin-Center_trips\n",
      "Load input of Berlin-Friedrichshain_trips\n",
      "Load input of Berlin-Mitte-Center_trips\n",
      "Load input of Berlin-Mitte-Prenzlauerberg-Friedrichshain-Center_trips\n",
      "Load input of Berlin-Prenzlauerberg-Center_trips\n",
      "Load input of Berlin-Tiergarten_trips\n",
      "Load input of Birmingham-England_trips\n",
      "Load input of Braess-Example_trips\n",
      "Load input of Chicago-Sketch_trips\n",
      "Load input of Eastern-Massachusetts_trips\n",
      "Load input of Hessen-Asymmetric_trips\n",
      "Load input of SiouxFalls_trips\n",
      "Load input of Terrassa-Asymmetric_trips\n",
      "Load input of Winnipeg_trips\n",
      "Load input of Winnipeg-Asymmetric_trips\n"
     ]
    }
   ],
   "source": [
    "# Import trips of all networks in folder\n",
    "# Output of this function is a file 'demand.omx' in the respective folder of the network ()\n",
    "for f in folders:\n",
    "    mod = os.path.join(root, f)\n",
    "    mod_files = os.listdir(mod)\n",
    "\n",
    "    for i in mod_files:\n",
    "#         print(f.upper())\n",
    "        if 'TRIPS' in i.upper() and i.lower()[-5:]=='.tntp':\n",
    "            print('Load input of ' + f+'_trips')\n",
    "            source_file = os.path.join(mod, i)\n",
    "            import_matrix(source_file,f)\n",
    "\n"
   ]
  },
  {
   "cell_type": "code",
   "execution_count": 8,
   "metadata": {},
   "outputs": [
    {
     "name": "stdout",
     "output_type": "stream",
     "text": [
      "Load input of Anaheim_trips\n"
     ]
    }
   ],
   "source": [
    "f ='Anaheim'\n",
    "mod = os.path.join(root, f)\n",
    "mod_files = os.listdir(mod)\n",
    "\n",
    "for i in mod_files:\n",
    "#         print(f.upper())\n",
    "    if 'TRIPS' in i.upper() and i.lower()[-5:]=='.tntp':\n",
    "        print('Load input of ' + f+'_trips')\n",
    "        source_file = os.path.join(mod, i)\n",
    "        import_matrix(source_file,f)\n",
    "\n"
   ]
  },
  {
   "cell_type": "code",
   "execution_count": null,
   "metadata": {},
   "outputs": [],
   "source": []
  }
 ],
 "metadata": {
  "kernelspec": {
   "display_name": "Python 3",
   "language": "python",
   "name": "python3"
  },
  "language_info": {
   "codemirror_mode": {
    "name": "ipython",
    "version": 3
   },
   "file_extension": ".py",
   "mimetype": "text/x-python",
   "name": "python",
   "nbconvert_exporter": "python",
   "pygments_lexer": "ipython3",
   "version": "3.7.4"
  }
 },
 "nbformat": 4,
 "nbformat_minor": 2
}
